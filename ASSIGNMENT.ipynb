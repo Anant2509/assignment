{
 "cells": [
  {
   "cell_type": "markdown",
   "metadata": {},
   "source": [
    "# ASSIGNMENT"
   ]
  },
  {
   "cell_type": "markdown",
   "metadata": {},
   "source": [
    "<h1 style=\"color:blue\">Introduction"
   ]
  },
  {
   "cell_type": "markdown",
   "metadata": {},
   "source": [
    "### List of Data Science Languages"
   ]
  },
  {
   "cell_type": "markdown",
   "metadata": {},
   "source": [
    "<ol style=\"color:orange;font-size:18px\" >List of Data Science Languages\n",
    "<li> R </li>\n",
    "<li> Python</li>\n",
    "<li>Julia</li>\n",
    "    "
   ]
  },
  {
   "cell_type": "markdown",
   "metadata": {},
   "source": [
    "### List of data science libareries "
   ]
  },
  {
   "cell_type": "markdown",
   "metadata": {},
   "source": [
    "<ol style=\"color:red;font-size:18px\" >List of Data Science Libareries\n",
    "<li> TensorFlow </li>\n",
    "<li> NumPy</li>\n",
    "<li>SciPY</li>\n",
    "<li>Pandas</li>\n",
    " "
   ]
  },
  {
   "cell_type": "markdown",
   "metadata": {},
   "source": [
    "### List of data science Tools "
   ]
  },
  {
   "cell_type": "markdown",
   "metadata": {},
   "source": [
    "<ol style=\"color:darkred;font-size:18px\" >List of Data Science Tools\n",
    "<li> Knime </li>\n",
    "<li> Matlab</li>\n",
    "<li>Excel</li>\n",
    "<li>Pandas</li>\n",
    "    </ol>"
   ]
  },
  {
   "cell_type": "markdown",
   "metadata": {},
   "source": [
    "<b style=\"color:green;font-size:16px\">A = P * (1 + r/n)**(n*t)  # Compound interest formula for showing Arithmetic opperations\n"
   ]
  },
  {
   "cell_type": "markdown",
   "metadata": {},
   "source": [
    "### Arithmetic opperations "
   ]
  },
  {
   "cell_type": "code",
   "execution_count": 4,
   "metadata": {},
   "outputs": [
    {
     "name": "stdout",
     "output_type": "stream",
     "text": [
      "40\n"
     ]
    }
   ],
   "source": [
    "Mult=5*8\n",
    "print(Mult)\n"
   ]
  },
  {
   "cell_type": "code",
   "execution_count": 5,
   "metadata": {},
   "outputs": [
    {
     "name": "stdout",
     "output_type": "stream",
     "text": [
      "111\n"
     ]
    }
   ],
   "source": [
    "Sum=24+87\n",
    "print(Sum)"
   ]
  },
  {
   "cell_type": "markdown",
   "metadata": {},
   "source": [
    "### Convert minutes into hours\n"
   ]
  },
  {
   "cell_type": "code",
   "execution_count": 13,
   "metadata": {},
   "outputs": [
    {
     "name": "stdout",
     "output_type": "stream",
     "text": [
      "4.0\n"
     ]
    }
   ],
   "source": [
    "def convert(min):\n",
    "    hour=min/60\n",
    "    print(hour)\n",
    "convert(240)"
   ]
  },
  {
   "cell_type": "markdown",
   "metadata": {},
   "source": [
    "<ol style=\"color:darkblue;font-size:16px\">List of Objectivies\n",
    "\n",
    "  <li>Exercise 2 - Create a markdown cell with the title of the notebook. (1 pt)</li>\n",
    "  <li>Exercise 3 - Create a markdown cell for an introduction. (1 pt)</li>\n",
    "  <li>Exercise 4 - Create a markdown cell to list data science languages. (3 pts)</li>\n",
    "  <li>Exercise 5 - Create a markdown cell to list data science libraries. (3 pts)</li>\n",
    "  <li>Exercise 6 - Create a markdown cell with a table of Data Science tools. (3 pts)</li>\n",
    "  <li>Exercise 7 - Create a markdown cell introducing arithmetic expression examples. (1 pt)</li>\n",
    "  <li>Exercise 8 - Create a code cell to multiply and add numbers. (2 pts)</li>\n",
    "  <li>Exercise 9 - Create a code cell to convert minutes to hours. (2 pts)</li>\n",
    "  <li>Exercise 10 - Insert a markdown cell to list Objectives. (3 pts)</li>\n",
    "  <li>Exercise 11 - Create a markdown cell to indicate the Author’s name. (2 pts)</li>\n",
    "  <li>Exercise 12 - Share your notebook through GitHub (3 pts)</li>\n",
    "  <li>Exercise 13 - Take a screenshot of the first page of the notebook. (1 pt)</li>\n",
    "</ol>\n"
   ]
  },
  {
   "cell_type": "markdown",
   "metadata": {},
   "source": [
    "<h1 style=\"color:Blue\">Author Name: Anant </h1>"
   ]
  },
  {
   "cell_type": "code",
   "execution_count": null,
   "metadata": {},
   "outputs": [],
   "source": []
  }
 ],
 "metadata": {
  "kernelspec": {
   "display_name": "Python 3",
   "language": "python",
   "name": "python3"
  },
  "language_info": {
   "codemirror_mode": {
    "name": "ipython",
    "version": 3
   },
   "file_extension": ".py",
   "mimetype": "text/x-python",
   "name": "python",
   "nbconvert_exporter": "python",
   "pygments_lexer": "ipython3",
   "version": "3.7.0"
  }
 },
 "nbformat": 4,
 "nbformat_minor": 2
}
